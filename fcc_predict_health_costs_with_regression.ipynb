{
 "cells": [
  {
   "cell_type": "markdown",
   "metadata": {
    "id": "M9TX15KOkPBV"
   },
   "source": [
    "*Note: You are currently reading this using Google Colaboratory which is a cloud-hosted version of Jupyter Notebook. This is a document containing both text cells for documentation and runnable code cells. If you are unfamiliar with Jupyter Notebook, watch this 3-minute introduction before starting this challenge: https://www.youtube.com/watch?v=inN8seMm7UI*\n",
    "\n",
    "---\n",
    "\n",
    "In this challenge, you will predict healthcare costs using a regression algorithm.\n",
    "\n",
    "You are given a dataset that contains information about different people including their healthcare costs. Use the data to predict healthcare costs based on new data.\n",
    "\n",
    "The first two cells of this notebook import libraries and the data.\n",
    "\n",
    "Make sure to convert categorical data to numbers. Use 80% of the data as the `train_dataset` and 20% of the data as the `test_dataset`.\n",
    "\n",
    "`pop` off the \"expenses\" column from these datasets to create new datasets called `train_labels` and `test_labels`. Use these labels when training your model.\n",
    "\n",
    "Create a model and train it with the `train_dataset`. Run the final cell in this notebook to check your model. The final cell will use the unseen `test_dataset` to check how well the model generalizes.\n",
    "\n",
    "To pass the challenge, `model.evaluate` must return a Mean Absolute Error of under 3500. This means it predicts health care costs correctly within $3500.\n",
    "\n",
    "The final cell will also predict expenses using the `test_dataset` and graph the results."
   ]
  },
  {
   "cell_type": "code",
   "execution_count": 1,
   "metadata": {
    "id": "1rRo8oNqZ-Rj"
   },
   "outputs": [],
   "source": [
    "# Import libraries. You may or may not use all of these.\n",
    "#!pip install -q git+https://github.com/tensorflow/docs\n",
    "import matplotlib.pyplot as plt\n",
    "import numpy as np\n",
    "import pandas as pd\n",
    "\n",
    "from tensorflow import keras\n",
    "from tensorflow.keras import layers\n",
    "\n",
    "#import tensorflow_docs as tfdocs\n",
    "#import tensorflow_docs.plots\n",
    "#import tensorflow_docs.modeling\n",
    "from sklearn.model_selection import train_test_split"
   ]
  },
  {
   "cell_type": "code",
   "execution_count": 2,
   "metadata": {
    "id": "CiX2FI4gZtTt"
   },
   "outputs": [
    {
     "data": {
      "text/html": [
       "<div>\n",
       "<style scoped>\n",
       "    .dataframe tbody tr th:only-of-type {\n",
       "        vertical-align: middle;\n",
       "    }\n",
       "\n",
       "    .dataframe tbody tr th {\n",
       "        vertical-align: top;\n",
       "    }\n",
       "\n",
       "    .dataframe thead th {\n",
       "        text-align: right;\n",
       "    }\n",
       "</style>\n",
       "<table border=\"1\" class=\"dataframe\">\n",
       "  <thead>\n",
       "    <tr style=\"text-align: right;\">\n",
       "      <th></th>\n",
       "      <th>age</th>\n",
       "      <th>sex</th>\n",
       "      <th>bmi</th>\n",
       "      <th>children</th>\n",
       "      <th>smoker</th>\n",
       "      <th>region</th>\n",
       "      <th>expenses</th>\n",
       "    </tr>\n",
       "  </thead>\n",
       "  <tbody>\n",
       "    <tr>\n",
       "      <th>1333</th>\n",
       "      <td>50</td>\n",
       "      <td>male</td>\n",
       "      <td>31.0</td>\n",
       "      <td>3</td>\n",
       "      <td>no</td>\n",
       "      <td>northwest</td>\n",
       "      <td>10600.55</td>\n",
       "    </tr>\n",
       "    <tr>\n",
       "      <th>1334</th>\n",
       "      <td>18</td>\n",
       "      <td>female</td>\n",
       "      <td>31.9</td>\n",
       "      <td>0</td>\n",
       "      <td>no</td>\n",
       "      <td>northeast</td>\n",
       "      <td>2205.98</td>\n",
       "    </tr>\n",
       "    <tr>\n",
       "      <th>1335</th>\n",
       "      <td>18</td>\n",
       "      <td>female</td>\n",
       "      <td>36.9</td>\n",
       "      <td>0</td>\n",
       "      <td>no</td>\n",
       "      <td>southeast</td>\n",
       "      <td>1629.83</td>\n",
       "    </tr>\n",
       "    <tr>\n",
       "      <th>1336</th>\n",
       "      <td>21</td>\n",
       "      <td>female</td>\n",
       "      <td>25.8</td>\n",
       "      <td>0</td>\n",
       "      <td>no</td>\n",
       "      <td>southwest</td>\n",
       "      <td>2007.95</td>\n",
       "    </tr>\n",
       "    <tr>\n",
       "      <th>1337</th>\n",
       "      <td>61</td>\n",
       "      <td>female</td>\n",
       "      <td>29.1</td>\n",
       "      <td>0</td>\n",
       "      <td>yes</td>\n",
       "      <td>northwest</td>\n",
       "      <td>29141.36</td>\n",
       "    </tr>\n",
       "  </tbody>\n",
       "</table>\n",
       "</div>"
      ],
      "text/plain": [
       "      age     sex   bmi  children smoker     region  expenses\n",
       "1333   50    male  31.0         3     no  northwest  10600.55\n",
       "1334   18  female  31.9         0     no  northeast   2205.98\n",
       "1335   18  female  36.9         0     no  southeast   1629.83\n",
       "1336   21  female  25.8         0     no  southwest   2007.95\n",
       "1337   61  female  29.1         0    yes  northwest  29141.36"
      ]
     },
     "execution_count": 2,
     "metadata": {},
     "output_type": "execute_result"
    }
   ],
   "source": [
    "# Import data\n",
    "#!wget https://cdn.freecodecamp.org/project-data/health-costs/insurance.csv\n",
    "dataset = pd.read_csv('insurance.csv')\n",
    "dataset.tail()"
   ]
  },
  {
   "cell_type": "code",
   "execution_count": 3,
   "metadata": {
    "id": "LcopvQh3X-kX"
   },
   "outputs": [],
   "source": [
    "out= dataset.pop('expenses')"
   ]
  },
  {
   "cell_type": "code",
   "execution_count": 4,
   "metadata": {
    "id": "P2rbpm-CEM6y"
   },
   "outputs": [],
   "source": [
    "# replacing values\n",
    "dataset['sex'].replace(['female', 'male'],[0, 1], inplace=True)\n",
    "dataset['smoker'].replace(['no', 'yes'],[0, 1], inplace=True)\n",
    "dataset['region'].replace(['southwest', 'southeast', 'northwest', 'northeast'],[0, 1, 2, 3], inplace=True)"
   ]
  },
  {
   "cell_type": "code",
   "execution_count": 5,
   "metadata": {
    "id": "YVJYJsXdEeab"
   },
   "outputs": [
    {
     "data": {
      "text/html": [
       "<div>\n",
       "<style scoped>\n",
       "    .dataframe tbody tr th:only-of-type {\n",
       "        vertical-align: middle;\n",
       "    }\n",
       "\n",
       "    .dataframe tbody tr th {\n",
       "        vertical-align: top;\n",
       "    }\n",
       "\n",
       "    .dataframe thead th {\n",
       "        text-align: right;\n",
       "    }\n",
       "</style>\n",
       "<table border=\"1\" class=\"dataframe\">\n",
       "  <thead>\n",
       "    <tr style=\"text-align: right;\">\n",
       "      <th></th>\n",
       "      <th>age</th>\n",
       "      <th>sex</th>\n",
       "      <th>bmi</th>\n",
       "      <th>children</th>\n",
       "      <th>smoker</th>\n",
       "      <th>region</th>\n",
       "    </tr>\n",
       "  </thead>\n",
       "  <tbody>\n",
       "    <tr>\n",
       "      <th>1333</th>\n",
       "      <td>50</td>\n",
       "      <td>1</td>\n",
       "      <td>31.0</td>\n",
       "      <td>3</td>\n",
       "      <td>0</td>\n",
       "      <td>2</td>\n",
       "    </tr>\n",
       "    <tr>\n",
       "      <th>1334</th>\n",
       "      <td>18</td>\n",
       "      <td>0</td>\n",
       "      <td>31.9</td>\n",
       "      <td>0</td>\n",
       "      <td>0</td>\n",
       "      <td>3</td>\n",
       "    </tr>\n",
       "    <tr>\n",
       "      <th>1335</th>\n",
       "      <td>18</td>\n",
       "      <td>0</td>\n",
       "      <td>36.9</td>\n",
       "      <td>0</td>\n",
       "      <td>0</td>\n",
       "      <td>1</td>\n",
       "    </tr>\n",
       "    <tr>\n",
       "      <th>1336</th>\n",
       "      <td>21</td>\n",
       "      <td>0</td>\n",
       "      <td>25.8</td>\n",
       "      <td>0</td>\n",
       "      <td>0</td>\n",
       "      <td>0</td>\n",
       "    </tr>\n",
       "    <tr>\n",
       "      <th>1337</th>\n",
       "      <td>61</td>\n",
       "      <td>0</td>\n",
       "      <td>29.1</td>\n",
       "      <td>0</td>\n",
       "      <td>1</td>\n",
       "      <td>2</td>\n",
       "    </tr>\n",
       "  </tbody>\n",
       "</table>\n",
       "</div>"
      ],
      "text/plain": [
       "      age  sex   bmi  children  smoker  region\n",
       "1333   50    1  31.0         3       0       2\n",
       "1334   18    0  31.9         0       0       3\n",
       "1335   18    0  36.9         0       0       1\n",
       "1336   21    0  25.8         0       0       0\n",
       "1337   61    0  29.1         0       1       2"
      ]
     },
     "execution_count": 5,
     "metadata": {},
     "output_type": "execute_result"
    }
   ],
   "source": [
    "dataset.tail()"
   ]
  },
  {
   "cell_type": "code",
   "execution_count": 6,
   "metadata": {
    "id": "KIx7Oo-MEtVy"
   },
   "outputs": [],
   "source": [
    "dataset=dataset.to_numpy()\n",
    "out=out.to_numpy()"
   ]
  },
  {
   "cell_type": "code",
   "execution_count": 7,
   "metadata": {
    "id": "LXVU8daT9GIV"
   },
   "outputs": [],
   "source": [
    "train_dataset, test_dataset, train_labels, test_labels = train_test_split(dataset, out, test_size=0.20, random_state=5)"
   ]
  },
  {
   "cell_type": "code",
   "execution_count": 8,
   "metadata": {
    "id": "yXhUC8ls_tb_"
   },
   "outputs": [
    {
     "name": "stdout",
     "output_type": "stream",
     "text": [
      "1070\n"
     ]
    }
   ],
   "source": [
    "print(len(train_labels))"
   ]
  },
  {
   "cell_type": "code",
   "execution_count": 10,
   "metadata": {
    "id": "laIl3YDc-lrX"
   },
   "outputs": [
    {
     "name": "stdout",
     "output_type": "stream",
     "text": [
      "Model: \"sequential\"\n",
      "_________________________________________________________________\n",
      " Layer (type)                Output Shape              Param #   \n",
      "=================================================================\n",
      " normalization (Normalizatio  (None, 6)                13        \n",
      " n)                                                              \n",
      "                                                                 \n",
      " dense (Dense)               (None, 16)                112       \n",
      "                                                                 \n",
      " dense_1 (Dense)             (None, 64)                1088      \n",
      "                                                                 \n",
      " dense_2 (Dense)             (None, 1)                 65        \n",
      "                                                                 \n",
      "=================================================================\n",
      "Total params: 1,278\n",
      "Trainable params: 1,265\n",
      "Non-trainable params: 13\n",
      "_________________________________________________________________\n"
     ]
    }
   ],
   "source": [
    "opt = keras.optimizers.Adam()\n",
    "loss= keras.losses.MeanAbsoluteError()\n",
    "init = keras.initializers.GlorotNormal()\n",
    "normalizer = layers.Normalization(axis=-1)\n",
    "normalizer.adapt(train_dataset)\n",
    "model = keras.Sequential([\n",
    "normalizer,\n",
    "layers.Dense(16,activation='relu'),\n",
    "layers.Dense(64, activation='relu'),\n",
    "layers.Dense(1)\n",
    "])\n",
    "#model.add((train_dataset))\n",
    "#model.add, input_dim=len(train_dataset[0]), , kernel_initializer=init))\n",
    "#model.add(layers.Dense(64, activation='relu', kernel_initializer=init))\n",
    "#model.add(, kernel_initializer=init))\n",
    "model.summary()"
   ]
  },
  {
   "cell_type": "code",
   "execution_count": 11,
   "metadata": {
    "id": "iXPrKWlXAwL7"
   },
   "outputs": [
    {
     "name": "stdout",
     "output_type": "stream",
     "text": [
      "Epoch 1/50\n",
      "67/67 [==============================] - 1s 1ms/step - loss: 13468.4609 - mae: 13468.4609 - mse: 326425376.0000\n",
      "Epoch 2/50\n",
      "67/67 [==============================] - 0s 1ms/step - loss: 13461.9512 - mae: 13461.9512 - mse: 326237504.0000\n",
      "Epoch 3/50\n",
      "67/67 [==============================] - 0s 1ms/step - loss: 13440.3369 - mae: 13440.3369 - mse: 325609952.0000\n",
      "Epoch 4/50\n",
      "67/67 [==============================] - 0s 997us/step - loss: 13390.3857 - mae: 13390.3857 - mse: 324183936.0000\n",
      "Epoch 5/50\n",
      "67/67 [==============================] - 0s 997us/step - loss: 13299.5566 - mae: 13299.5566 - mse: 321675520.0000\n",
      "Epoch 6/50\n",
      "67/67 [==============================] - 0s 983us/step - loss: 13155.8477 - mae: 13155.8477 - mse: 317754080.0000\n",
      "Epoch 7/50\n",
      "67/67 [==============================] - 0s 997us/step - loss: 12948.4561 - mae: 12948.4561 - mse: 312175008.0000\n",
      "Epoch 8/50\n",
      "67/67 [==============================] - 0s 1ms/step - loss: 12667.0420 - mae: 12667.0420 - mse: 304917728.0000\n",
      "Epoch 9/50\n",
      "67/67 [==============================] - 0s 997us/step - loss: 12299.8496 - mae: 12299.8496 - mse: 295505856.0000\n",
      "Epoch 10/50\n",
      "67/67 [==============================] - 0s 998us/step - loss: 11850.4824 - mae: 11850.4824 - mse: 284321504.0000\n",
      "Epoch 11/50\n",
      "67/67 [==============================] - 0s 1ms/step - loss: 11345.3135 - mae: 11345.3135 - mse: 271524000.0000\n",
      "Epoch 12/50\n",
      "67/67 [==============================] - 0s 991us/step - loss: 10798.1943 - mae: 10798.1943 - mse: 257336624.0000\n",
      "Epoch 13/50\n",
      "67/67 [==============================] - 0s 1ms/step - loss: 10210.3252 - mae: 10210.3252 - mse: 241813136.0000\n",
      "Epoch 14/50\n",
      "67/67 [==============================] - 0s 986us/step - loss: 9565.5566 - mae: 9565.5566 - mse: 225769808.0000\n",
      "Epoch 15/50\n",
      "67/67 [==============================] - 0s 1ms/step - loss: 8885.7549 - mae: 8885.7549 - mse: 209088512.0000\n",
      "Epoch 16/50\n",
      "67/67 [==============================] - 0s 994us/step - loss: 8196.2012 - mae: 8196.2012 - mse: 192587392.0000\n",
      "Epoch 17/50\n",
      "67/67 [==============================] - 0s 1ms/step - loss: 7513.9375 - mae: 7513.9375 - mse: 176340480.0000\n",
      "Epoch 18/50\n",
      "67/67 [==============================] - 0s 1ms/step - loss: 6931.8159 - mae: 6931.8159 - mse: 162019520.0000\n",
      "Epoch 19/50\n",
      "67/67 [==============================] - 0s 1ms/step - loss: 6526.9297 - mae: 6526.9297 - mse: 149977088.0000\n",
      "Epoch 20/50\n",
      "67/67 [==============================] - 0s 1ms/step - loss: 6231.4175 - mae: 6231.4175 - mse: 140624576.0000\n",
      "Epoch 21/50\n",
      "67/67 [==============================] - 0s 1ms/step - loss: 5990.7310 - mae: 5990.7310 - mse: 132815536.0000\n",
      "Epoch 22/50\n",
      "67/67 [==============================] - 0s 1ms/step - loss: 5787.1260 - mae: 5787.1260 - mse: 125675520.0000\n",
      "Epoch 23/50\n",
      "67/67 [==============================] - 0s 1ms/step - loss: 5592.5605 - mae: 5592.5605 - mse: 118778936.0000\n",
      "Epoch 24/50\n",
      "67/67 [==============================] - 0s 1ms/step - loss: 5401.4473 - mae: 5401.4473 - mse: 112146168.0000\n",
      "Epoch 25/50\n",
      "67/67 [==============================] - 0s 1ms/step - loss: 5209.3413 - mae: 5209.3413 - mse: 105530944.0000\n",
      "Epoch 26/50\n",
      "67/67 [==============================] - 0s 990us/step - loss: 5010.1621 - mae: 5010.1621 - mse: 98569792.0000\n",
      "Epoch 27/50\n",
      "67/67 [==============================] - 0s 1ms/step - loss: 4809.0259 - mae: 4809.0259 - mse: 92219088.0000\n",
      "Epoch 28/50\n",
      "67/67 [==============================] - 0s 997us/step - loss: 4611.9482 - mae: 4611.9482 - mse: 85759000.0000\n",
      "Epoch 29/50\n",
      "67/67 [==============================] - 0s 1ms/step - loss: 4426.5859 - mae: 4426.5859 - mse: 80123592.0000\n",
      "Epoch 30/50\n",
      "67/67 [==============================] - 0s 989us/step - loss: 4253.9194 - mae: 4253.9194 - mse: 74792216.0000\n",
      "Epoch 31/50\n",
      "67/67 [==============================] - 0s 984us/step - loss: 4117.2402 - mae: 4117.2402 - mse: 70451192.0000\n",
      "Epoch 32/50\n",
      "67/67 [==============================] - 0s 1ms/step - loss: 4009.3977 - mae: 4009.3977 - mse: 66297720.0000\n",
      "Epoch 33/50\n",
      "67/67 [==============================] - 0s 1ms/step - loss: 3932.9326 - mae: 3932.9326 - mse: 63617836.0000\n",
      "Epoch 34/50\n",
      "67/67 [==============================] - 0s 1ms/step - loss: 3875.5486 - mae: 3875.5486 - mse: 61426868.0000\n",
      "Epoch 35/50\n",
      "67/67 [==============================] - 0s 1ms/step - loss: 3835.1533 - mae: 3835.1533 - mse: 59441856.0000\n",
      "Epoch 36/50\n",
      "67/67 [==============================] - 0s 1ms/step - loss: 3801.3027 - mae: 3801.3027 - mse: 58042572.0000\n",
      "Epoch 37/50\n",
      "67/67 [==============================] - 0s 1ms/step - loss: 3773.7048 - mae: 3773.7048 - mse: 56637800.0000\n",
      "Epoch 38/50\n",
      "67/67 [==============================] - 0s 998us/step - loss: 3747.8887 - mae: 3747.8887 - mse: 55943540.0000\n",
      "Epoch 39/50\n",
      "67/67 [==============================] - 0s 1ms/step - loss: 3725.8650 - mae: 3725.8650 - mse: 54631848.0000\n",
      "Epoch 40/50\n",
      "67/67 [==============================] - 0s 987us/step - loss: 3706.0400 - mae: 3706.0400 - mse: 53960724.0000\n",
      "Epoch 41/50\n",
      "67/67 [==============================] - 0s 1ms/step - loss: 3687.8506 - mae: 3687.8506 - mse: 53337492.0000\n",
      "Epoch 42/50\n",
      "67/67 [==============================] - 0s 1ms/step - loss: 3672.9045 - mae: 3672.9045 - mse: 52717972.0000\n",
      "Epoch 43/50\n",
      "67/67 [==============================] - 0s 991us/step - loss: 3658.1604 - mae: 3658.1604 - mse: 52120508.0000\n",
      "Epoch 44/50\n",
      "67/67 [==============================] - 0s 982us/step - loss: 3643.6853 - mae: 3643.6853 - mse: 51482020.0000\n",
      "Epoch 45/50\n",
      "67/67 [==============================] - 0s 978us/step - loss: 3632.3872 - mae: 3632.3872 - mse: 50467420.0000\n",
      "Epoch 46/50\n",
      "67/67 [==============================] - 0s 997us/step - loss: 3618.1941 - mae: 3618.1941 - mse: 50047212.0000\n",
      "Epoch 47/50\n",
      "67/67 [==============================] - 0s 1ms/step - loss: 3605.7756 - mae: 3605.7756 - mse: 49631008.0000\n",
      "Epoch 48/50\n",
      "67/67 [==============================] - 0s 1ms/step - loss: 3594.2629 - mae: 3594.2629 - mse: 48771092.0000\n",
      "Epoch 49/50\n",
      "67/67 [==============================] - 0s 1ms/step - loss: 3582.8708 - mae: 3582.8708 - mse: 48261796.0000\n",
      "Epoch 50/50\n",
      "67/67 [==============================] - 0s 1ms/step - loss: 3571.4736 - mae: 3571.4736 - mse: 47783280.0000\n",
      "9/9 - 0s - loss: 3185.3765 - mae: 3185.3767 - mse: 44407904.0000 - 166ms/epoch - 18ms/step\n"
     ]
    }
   ],
   "source": [
    "model.compile(optimizer = opt, loss= loss, metrics=['mae', 'mse'])\n",
    "model.fit(train_dataset, train_labels, epochs=50,  batch_size=16, shuffle=True, verbose=1)\n",
    "history=model.evaluate(test_dataset, test_labels, verbose=2)"
   ]
  },
  {
   "cell_type": "code",
   "execution_count": 12,
   "metadata": {
    "id": "NAmUEctoFv4h"
   },
   "outputs": [
    {
     "data": {
      "text/plain": [
       "[3185.37646484375, 3185.376708984375, 44407904.0]"
      ]
     },
     "execution_count": 12,
     "metadata": {},
     "output_type": "execute_result"
    }
   ],
   "source": [
    "history"
   ]
  },
  {
   "cell_type": "code",
   "execution_count": 13,
   "metadata": {
    "id": "Xe7RXH3N3CWU"
   },
   "outputs": [
    {
     "name": "stdout",
     "output_type": "stream",
     "text": [
      "9/9 - 0s - loss: 3185.3765 - mae: 3185.3767 - mse: 44407904.0000 - 21ms/epoch - 2ms/step\n",
      "Testing set Mean Abs Error: 3185.38 expenses\n",
      "You passed the challenge. Great job!\n",
      "9/9 [==============================] - 0s 3ms/step\n"
     ]
    },
    {
     "data": {
      "image/png": "[encoded data removed]",
      "text/plain": [
       "<Figure size 432x288 with 1 Axes>"
      ]
     },
     "metadata": {
      "needs_background": "light"
     },
     "output_type": "display_data"
    }
   ],
   "source": [
    "# RUN THIS CELL TO TEST YOUR MODEL. DO NOT MODIFY CONTENTS.\n",
    "# Test model by checking how well the model generalizes using the test set.\n",
    "loss, mae, mse = model.evaluate(test_dataset, test_labels, verbose=2)\n",
    "\n",
    "print(\"Testing set Mean Abs Error: {:5.2f} expenses\".format(mae))\n",
    "\n",
    "if mae < 3500:\n",
    "  print(\"You passed the challenge. Great job!\")\n",
    "else:\n",
    "  print(\"The Mean Abs Error must be less than 3500. Keep trying.\")\n",
    "\n",
    "# Plot predictions.\n",
    "test_predictions = model.predict(test_dataset).flatten()\n",
    "\n",
    "a = plt.axes(aspect='equal')\n",
    "plt.scatter(test_labels, test_predictions)\n",
    "plt.xlabel('True values (expenses)')\n",
    "plt.ylabel('Predictions (expenses)')\n",
    "lims = [0, 50000]\n",
    "plt.xlim(lims)\n",
    "plt.ylim(lims)\n",
    "_ = plt.plot(lims,lims)\n"
   ]
  },
  {
   "cell_type": "code",
   "execution_count": null,
   "metadata": {
    "id": "Eid5b66qFdkT"
   },
   "outputs": [],
   "source": []
  }
 ],
 "metadata": {
  "colab": {
   "collapsed_sections": [],
   "name": "fcc_predict_health_costs_with_regression.ipynb adlı not defterinin kopyası",
   "private_outputs": true,
   "provenance": [],
   "toc_visible": true
  },
  "kernelspec": {
   "display_name": "Python 3",
   "language": "python",
   "name": "python3"
  },
  "language_info": {
   "codemirror_mode": {
    "name": "ipython",
    "version": 3
   },
   "file_extension": ".py",
   "mimetype": "text/x-python",
   "name": "python",
   "nbconvert_exporter": "python",
   "pygments_lexer": "ipython3",
   "version": "3.7.9"
  }
 },
 "nbformat": 4,
 "nbformat_minor": 1
}
